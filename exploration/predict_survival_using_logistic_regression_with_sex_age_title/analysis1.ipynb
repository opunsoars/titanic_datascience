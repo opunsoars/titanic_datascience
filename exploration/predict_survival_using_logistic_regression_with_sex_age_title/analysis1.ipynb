{
 "cells": [
  {
   "cell_type": "markdown",
   "metadata": {},
   "source": [
    "\n",
    "# Predict survival using logistic regression with sex, age and title\n",
    "\n",
    "Author: Vinay Warrier (vinay.warrier@gmail.com)\n",
    "\n",
    "Achievement: Using the sex, age and title of passengers, we fit a ridge logistic regression model that predicts if a passenger will survive with about 78.2% accurancy, improving by 16.7% over the 61.5% accuracy of the majority classifier."
   ]
  },
  {
   "cell_type": "code",
   "execution_count": 1,
   "metadata": {},
   "outputs": [
    {
     "name": "stdout",
     "output_type": "stream",
     "text": [
      "2020-10-15T19:35:46+02:00\n",
      "\n",
      "CPython 3.7.6\n",
      "IPython 7.18.1\n",
      "\n",
      "compiler   : GCC 7.3.0\n",
      "system     : Linux\n",
      "release    : 4.19.104-microsoft-standard\n",
      "machine    : x86_64\n",
      "processor  : x86_64\n",
      "CPU cores  : 12\n",
      "interpreter: 64bit\n"
     ]
    }
   ],
   "source": [
    "%load_ext watermark\n",
    "%watermark"
   ]
  },
  {
   "cell_type": "code",
   "execution_count": 4,
   "metadata": {},
   "outputs": [
    {
     "name": "stdout",
     "output_type": "stream",
     "text": [
      "--2020-10-15 19:38:34--  https://github.com/FilippoBovo/production-data-science/blob/master/tutorial/c-explore/exploration/predict_survival_using_logistic_regression_with_sex_age_title/analysis.ipynb\n",
      "Resolving github.com (github.com)... 140.82.118.4\n",
      "Connecting to github.com (github.com)|140.82.118.4|:443... connected.\n",
      "HTTP request sent, awaiting response... 200 OK\n",
      "Length: unspecified [text/html]\n",
      "Saving to: ‘analysis.ipynb’\n",
      "\n",
      "analysis.ipynb          [ <=>                ]  90.37K  --.-KB/s    in 0.06s   \n",
      "\n",
      "2020-10-15 19:38:35 (1.41 MB/s) - ‘analysis.ipynb’ saved [92541]\n",
      "\n"
     ]
    }
   ],
   "source": [
    "!wget https://github.com/FilippoBovo/production-data-science/blob/master/tutorial/c-explore/exploration/predict_survival_using_logistic_regression_with_sex_age_title/analysis.ipynb"
   ]
  }
 ],
 "metadata": {
  "kernelspec": {
   "display_name": "titanic_datascience",
   "language": "python",
   "name": "titanic_datascience"
  },
  "language_info": {
   "codemirror_mode": {
    "name": "ipython",
    "version": 3
   },
   "file_extension": ".py",
   "mimetype": "text/x-python",
   "name": "python",
   "nbconvert_exporter": "python",
   "pygments_lexer": "ipython3",
   "version": "3.7.6"
  }
 },
 "nbformat": 4,
 "nbformat_minor": 4
}
